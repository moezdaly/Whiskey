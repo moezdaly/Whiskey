{
 "cells": [
  {
   "cell_type": "code",
   "id": "initial_id",
   "metadata": {
    "collapsed": true,
    "ExecuteTime": {
     "end_time": "2024-06-25T07:22:21.496216Z",
     "start_time": "2024-06-25T07:22:17.981685Z"
    }
   },
   "source": [
    "import matplotlib.pyplot as plt\n",
    "import seaborn as sns\n",
    "import tensorflow as tf\n",
    "import os \n",
    "import cv2\n",
    "from PIL import Image \n",
    "import keras\n",
    "\n",
    "\n",
    "from keras.layers import Dense, Conv2D , MaxPool2D , Flatten , Dropout, Rescaling\n",
    "#from tensorflow.keras.preprocessing.image import ImageDataGenerator\n",
    "from keras.optimizers import Adam\n",
    "from sklearn.metrics import classification_report,confusion_matrix\n",
    "from sklearn.model_selection import train_test_split\n",
    "from keras.models import Sequential\n",
    "\n",
    "\n",
    "\n",
    "\n",
    "import numpy as np"
   ],
   "outputs": [
    {
     "name": "stderr",
     "output_type": "stream",
     "text": [
      "2024-06-25 09:22:19.420354: I tensorflow/core/platform/cpu_feature_guard.cc:210] This TensorFlow binary is optimized to use available CPU instructions in performance-critical operations.\n",
      "To enable the following instructions: AVX2 FMA, in other operations, rebuild TensorFlow with the appropriate compiler flags.\n",
      "2024-06-25 09:22:20.459070: W tensorflow/compiler/tf2tensorrt/utils/py_utils.cc:38] TF-TRT Warning: Could not find TensorRT\n"
     ]
    }
   ],
   "execution_count": 1
  },
  {
   "metadata": {
    "ExecuteTime": {
     "end_time": "2024-06-14T08:03:45.530294Z",
     "start_time": "2024-06-14T08:03:45.516903Z"
    }
   },
   "cell_type": "code",
   "source": [
    "\n",
    "# get image \n",
    "filepath = \"./trainingsdaten/OK/PW22-0028-01_2_284.png\"\n",
    "img = Image.open(filepath) \n",
    "  \n",
    "# get width and height \n",
    "width = img.width \n",
    "height = img.height \n",
    "  \n",
    "# display width and height \n",
    "print(\"The height of the image is: \", height) \n",
    "print(\"The width of the image is: \", width) "
   ],
   "id": "33a9d4a7e6e67167",
   "outputs": [
    {
     "ename": "NameError",
     "evalue": "name 'Image' is not defined",
     "output_type": "error",
     "traceback": [
      "\u001B[0;31m---------------------------------------------------------------------------\u001B[0m",
      "\u001B[0;31mNameError\u001B[0m                                 Traceback (most recent call last)",
      "Cell \u001B[0;32mIn[6], line 3\u001B[0m\n\u001B[1;32m      1\u001B[0m \u001B[38;5;66;03m# get image \u001B[39;00m\n\u001B[1;32m      2\u001B[0m filepath \u001B[38;5;241m=\u001B[39m \u001B[38;5;124m\"\u001B[39m\u001B[38;5;124m./trainingsdaten/OK/PW22-0028-01_2_284.png\u001B[39m\u001B[38;5;124m\"\u001B[39m\n\u001B[0;32m----> 3\u001B[0m img \u001B[38;5;241m=\u001B[39m \u001B[43mImage\u001B[49m\u001B[38;5;241m.\u001B[39mopen(filepath) \n\u001B[1;32m      5\u001B[0m \u001B[38;5;66;03m# get width and height \u001B[39;00m\n\u001B[1;32m      6\u001B[0m width \u001B[38;5;241m=\u001B[39m img\u001B[38;5;241m.\u001B[39mwidth \n",
      "\u001B[0;31mNameError\u001B[0m: name 'Image' is not defined"
     ]
    }
   ],
   "execution_count": 6
  }
 ],
 "metadata": {
  "kernelspec": {
   "display_name": "Python 3",
   "language": "python",
   "name": "python3"
  },
  "language_info": {
   "codemirror_mode": {
    "name": "ipython",
    "version": 2
   },
   "file_extension": ".py",
   "mimetype": "text/x-python",
   "name": "python",
   "nbconvert_exporter": "python",
   "pygments_lexer": "ipython2",
   "version": "2.7.6"
  }
 },
 "nbformat": 4,
 "nbformat_minor": 5
}
